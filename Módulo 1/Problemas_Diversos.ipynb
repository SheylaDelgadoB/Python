{
  "nbformat": 4,
  "nbformat_minor": 0,
  "metadata": {
    "kernelspec": {
      "display_name": "Python 3",
      "language": "python",
      "name": "python3"
    },
    "language_info": {
      "codemirror_mode": {
        "name": "ipython",
        "version": 3
      },
      "file_extension": ".py",
      "mimetype": "text/x-python",
      "name": "python",
      "nbconvert_exporter": "python",
      "pygments_lexer": "ipython3",
      "version": "3.8.3"
    },
    "colab": {
      "name": "Problemas Diversos.ipynb",
      "provenance": [],
      "collapsed_sections": []
    }
  },
  "cells": [
    {
      "cell_type": "markdown",
      "metadata": {
        "id": "H8JOzUazYaL5"
      },
      "source": [
        "# PROBLEMAS DIVERSOS"
      ]
    },
    {
      "cell_type": "markdown",
      "metadata": {
        "id": "jUCeKFL1YaMJ"
      },
      "source": [
        "<h3>1.</h3>\n",
        "Imagina que acabas de abrir una nueva cuenta de ahorros que te ofrece el 4% de interés al año. Estos ahorros debido a intereses, que no se cobran hasta finales de año, se te añaden al balance final de tu cuenta de ahorros. Escribir un programa que comience leyendo la cantidad de dinero depositada en la cuenta de ahorros, introducida por el usuario. Después el programa debe calcular y mostrar por pantalla la cantidad de ahorros tras el primer, segundo y tercer años. Redondear cada cantidad a dos decimales."
      ]
    },
    {
      "cell_type": "code",
      "metadata": {
        "colab": {
          "base_uri": "https://localhost:8080/"
        },
        "id": "jEfVZRQcYaMM",
        "outputId": "2e47ac0f-0614-4218-ed4a-156e17067bc2"
      },
      "source": [
        "deposit=float(input(\"Enter the 1st deposit:\"))\n",
        "Interest=0.04\n",
        "TotalMoneyOneYear=deposit*(1+Interest)\n",
        "print(\"Money in the first year:\"+str(round(TotalMoneyOneYear,2)))\n",
        "\n",
        "TotalMoneyTwoYear=TotalMoneyOneYear*(1+Interest)\n",
        "print(\"Money in the second year:\"+str(round(TotalMoneyTwoYear,2)))\n",
        "\n",
        "TotalMoneyThreeYear=TotalMoneyTwoYear*(1+Interest)\n",
        "print(\"Money in the third year:\"+str(round(TotalMoneyThreeYear,2)))\n",
        "\n",
        "\n",
        "\n",
        "\n"
      ],
      "execution_count": 5,
      "outputs": [
        {
          "output_type": "stream",
          "name": "stdout",
          "text": [
            "Enter the 1st deposit:1000\n",
            "Money in the first year:1040.0\n",
            "Money in the second year:1081.6\n",
            "Money in the third year:1124.86\n"
          ]
        }
      ]
    },
    {
      "cell_type": "markdown",
      "metadata": {
        "id": "xVje9xoCa934"
      },
      "source": [
        ""
      ]
    },
    {
      "cell_type": "markdown",
      "metadata": {
        "id": "XblqE5J4YaMO"
      },
      "source": [
        "### 2.\n",
        "Escriba un programa que pida los coeficientes de una ecuación de segundo grado <code>(a x² + b x + c = 0)</code> y escriba la solución.\n",
        "\n",
        "Se recuerda que una ecuación de segundo grado puede no tener solución, tener una solución única, tener dos soluciones o que todos los números sean solución."
      ]
    },
    {
      "cell_type": "markdown",
      "metadata": {
        "id": "14_ngUHGYaMP"
      },
      "source": [
        "<img src='https://i.pinimg.com/originals/d3/f7/01/d3f701528ad56ce0f5a98d7c91722fd7.png'>"
      ]
    },
    {
      "cell_type": "markdown",
      "metadata": {
        "id": "nZykZ89xYaMR"
      },
      "source": [
        "Su programa debe indicar:\n",
        "- En caso la ecuación cuadrática tenga solución real, su programa debe brindar la solución\n",
        "- En caso su ecuación no tenga solución real, su programa debe brindar un mensaje que diga \"Ecuación no presenta solución real\""
      ]
    },
    {
      "cell_type": "code",
      "metadata": {
        "colab": {
          "base_uri": "https://localhost:8080/"
        },
        "id": "XIp64RzfYaMS",
        "outputId": "9d90ef1a-c5bf-4faa-bc06-03f6846ac895"
      },
      "source": [
        "def EcuacionCuadratica():\n",
        "  print(\"Ecuación AX^2 +BX+C=0\")\n",
        "  a=float(input(\"Escriba el valor del coeficiente a:\"))\n",
        "  b=float(input(\"Escriba el valor del coeficiente b:\"))\n",
        "  c=float(input(\"Escriba el valor del coeficiente c:\"))\n",
        "\n",
        "  if a == b == c:\n",
        "    print(\"Todos los números son solución.\")\n",
        "  elif a == b == 0:\n",
        "    print(\"La ecuación no tiene solución.\")\n",
        "  elif a == 0 :\n",
        "    print(\"La ecuación tiene una solución.\")\n",
        "  else:\n",
        "    d=b*b-4*a*c\n",
        "    if d<0:\n",
        "      print(\"La ecuación no tiene solución real.\")\n",
        "    elif d==0:\n",
        "      print(f\"La ecuación no tiene solución real:{-b/(2*a)}\")\n",
        "    else:\n",
        "      print(f\"La ecuación tiene dos soluciones:{(-b - d ** 0.5) / (2 * a)} y {(-b + d ** 0.5) / (2 * a)}\"   )\n",
        "\n",
        "if_name_ = \"_EcuacionCuadratica_\"\n",
        "EcuacionCuadratica()\n",
        "    \n",
        "\n",
        "\n",
        "\n"
      ],
      "execution_count": 14,
      "outputs": [
        {
          "output_type": "stream",
          "name": "stdout",
          "text": [
            "Ecuación AX^2 +BX+C=0\n",
            "Escriba el valor del coeficiente a:1\n",
            "Escriba el valor del coeficiente b:2\n",
            "Escriba el valor del coeficiente c:1\n",
            "La ecuación no tiene solución real:-1.0\n"
          ]
        }
      ]
    }
  ]
}