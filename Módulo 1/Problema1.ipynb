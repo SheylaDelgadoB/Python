{
  "nbformat": 4,
  "nbformat_minor": 0,
  "metadata": {
    "kernelspec": {
      "display_name": "Python 3",
      "language": "python",
      "name": "python3"
    },
    "language_info": {
      "codemirror_mode": {
        "name": "ipython",
        "version": 3
      },
      "file_extension": ".py",
      "mimetype": "text/x-python",
      "name": "python",
      "nbconvert_exporter": "python",
      "pygments_lexer": "ipython3",
      "version": "3.8.3"
    },
    "colab": {
      "name": "Problema1.ipynb",
      "provenance": [],
      "collapsed_sections": []
    }
  },
  "cells": [
    {
      "cell_type": "markdown",
      "metadata": {
        "id": "EN5k8SS2BBBm"
      },
      "source": [
        "# Hello"
      ]
    },
    {
      "cell_type": "markdown",
      "metadata": {
        "id": "0EoKNxC9BBBr"
      },
      "source": [
        "Implemente un programa que imprima un saludo simple para el usuario, como se indica a continuación."
      ]
    },
    {
      "cell_type": "markdown",
      "metadata": {
        "id": "BHXMkgc_BBBs"
      },
      "source": [
        "<img src='./img/ejercicio1.PNG'>\n",
        "<!-- \"C:\\Users\\gdelgadr\\Desktop\\JoinProcess\\PYTHON-FUNDAMENTOS-JOINPROCESS\\Modulo1\\Ejercicios\\img\\ejercicio1.PNG\" -->"
      ]
    },
    {
      "cell_type": "markdown",
      "metadata": {
        "id": "UBn9tcz0BBBt"
      },
      "source": [
        "## Especificaciones"
      ]
    },
    {
      "cell_type": "markdown",
      "metadata": {
        "id": "v_Sh-0uWBBBt"
      },
      "source": [
        "Genere un archivo llamado <b>hello.py</b> , el cual contendrá un programa que solicita al usuario su nombre, y luego imprima <b>hello, \"nombre\" </b> , donde \"nombre\" es el nombre proporcionado."
      ]
    },
    {
      "cell_type": "markdown",
      "metadata": {
        "id": "5vl41xZ8BBBv"
      },
      "source": [
        "<img src='./img/ejercicio1.PNG'>\n",
        "<!-- \"C:\\Users\\gdelgadr\\Desktop\\JoinProcess\\PYTHON-FUNDAMENTOS-JOINPROCESS\\Modulo1\\Ejercicios\\img\\ejercicio1.PNG\" -->"
      ]
    },
    {
      "cell_type": "markdown",
      "metadata": {
        "id": "IMEs_lxeBBBw"
      },
      "source": [
        "## Pruebas"
      ]
    },
    {
      "cell_type": "markdown",
      "metadata": {
        "id": "E15Ua86HBBBy"
      },
      "source": [
        "Asegúrese de probar su código para cada uno de los siguientes.\n",
        "\n",
        "- Ejecute su programa como python hello.py y espere a que se le solicite la entrada. Escribe Emmay presiona enter. Su programa debería generar hello, Emma.\n",
        "- Ejecute su programa como python hello.py y espere a que se le solicite la entrada. Escribe Rodrigoy presiona enter. Su programa debería generar hello, Rodrigo."
      ]
    },
    {
      "cell_type": "code",
      "metadata": {
        "colab": {
          "base_uri": "https://localhost:8080/"
        },
        "id": "cKd7K3mxDStS",
        "outputId": "34797ffd-771c-4ddc-ec6a-36478d5ca64b"
      },
      "source": [
        "print('What is your name?')\n",
        "nombre=input()\n",
        "print (f\"hello,{nombre}\")"
      ],
      "execution_count": null,
      "outputs": [
        {
          "output_type": "stream",
          "name": "stdout",
          "text": [
            "What is your name?\n",
            "Sheyla\n",
            "hello,Sheyla\n"
          ]
        }
      ]
    }
  ]
}