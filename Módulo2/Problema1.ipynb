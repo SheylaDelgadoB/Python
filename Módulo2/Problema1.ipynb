{
  "nbformat": 4,
  "nbformat_minor": 0,
  "metadata": {
    "kernelspec": {
      "display_name": "Python 3",
      "language": "python",
      "name": "python3"
    },
    "language_info": {
      "codemirror_mode": {
        "name": "ipython",
        "version": 3
      },
      "file_extension": ".py",
      "mimetype": "text/x-python",
      "name": "python",
      "nbconvert_exporter": "python",
      "pygments_lexer": "ipython3",
      "version": "3.8.5"
    },
    "colab": {
      "name": "Problema1.ipynb",
      "provenance": []
    }
  },
  "cells": [
    {
      "cell_type": "markdown",
      "metadata": {
        "id": "aw5NE8wPSdL4"
      },
      "source": [
        "# MARIO GAME"
      ]
    },
    {
      "cell_type": "markdown",
      "metadata": {
        "id": "5AmUS7BHSdML"
      },
      "source": [
        "<img src='./img/ejercicio1.png'>"
      ]
    },
    {
      "cell_type": "markdown",
      "metadata": {
        "id": "Mk_DqjD4SdMO"
      },
      "source": [
        "Implemente un programa que imprima una media pirámide de una altura específica, como se indica a continuación."
      ]
    },
    {
      "cell_type": "markdown",
      "metadata": {
        "id": "28TD8xZhSdMQ"
      },
      "source": [
        "<code>$ ./mario\n",
        "Height: 4\n",
        "   #\n",
        "  ##\n",
        " ###\n",
        "####</code>"
      ]
    },
    {
      "cell_type": "markdown",
      "metadata": {
        "id": "7QMFs1LFSdMT"
      },
      "source": [
        "## Especificaciones"
      ]
    },
    {
      "cell_type": "markdown",
      "metadata": {
        "id": "BtGi_nQBSdMW"
      },
      "source": [
        "- Cree un archivo llamado <code>mario.py</code>,el cual es un programa que recrea una media pirámide usando los hash (#) para los bloques.\n",
        "- Para hacer las cosas más interesantes, primero solicite al usuario <code>input</code> la altura de la media pirámide, el cual debe ser un número entero positivo entre <code>1</code> y <code>8</code>, inclusive.\n",
        "- Si el usuario no proporciona un número entero positivo no mayor que <code>8</code>, debe volver a solicitar el mismo.\n",
        "- Luego, genere (con la ayuda de <code>print</code> uno o más bucles) la media pirámide deseada.\n",
        "- Tenga cuidado de alinear la esquina inferior izquierda de su media pirámide con el borde izquierdo de la ventana de su terminal."
      ]
    },
    {
      "cell_type": "markdown",
      "metadata": {
        "id": "gsqJZyuFSdMa"
      },
      "source": [
        "## Uso"
      ]
    },
    {
      "cell_type": "markdown",
      "metadata": {
        "id": "NQmuCu7NSdMd"
      },
      "source": [
        "Su programa debería comportarse según el ejemplo siguiente."
      ]
    },
    {
      "cell_type": "markdown",
      "metadata": {
        "id": "GnNHjwQKSdMg"
      },
      "source": [
        "<code>$ ./mario\n",
        "Height: 4\n",
        "   #\n",
        "  ##\n",
        " ###\n",
        "####</code>"
      ]
    },
    {
      "cell_type": "markdown",
      "metadata": {
        "id": "3c3Q_ToQSdMm"
      },
      "source": [
        "## Pruebas"
      ]
    },
    {
      "cell_type": "markdown",
      "metadata": {
        "id": "JCs2PzgCSdMo"
      },
      "source": [
        "- Ejecute su programa como <code>python mario.py</code> y espere una solicitud de entrada. Escribe <code>-1</code> y presiona enter. Su programa debe rechazar esta entrada como inválida, por ejemplo, volviendo a solicitar al usuario que escriba otro número.\n",
        "- Ejecute su programa como <code>python mario.py</code> y espere una solicitud de entrada. Escribe <code>0</code> y presiona enter. Su programa debe rechazar esta entrada como inválida, por ejemplo, volviendo a solicitar al usuario que escriba otro número.\n",
        "- Ejecute su programa como <code>python mario.py</code> y espere una solicitud de entrada. Escribe <code>1</code> y presiona enter. Su programa debería generar la siguiente salida. Asegúrese de que la pirámide esté alineada con la esquina inferior izquierda de su terminal y de que no haya espacios adicionales al final de cada línea."
      ]
    },
    {
      "cell_type": "markdown",
      "metadata": {
        "id": "tiG_SobXSdMq"
      },
      "source": [
        "<code>#</code>"
      ]
    },
    {
      "cell_type": "markdown",
      "metadata": {
        "id": "YMXTfE1kSdMr"
      },
      "source": [
        "Ejecute su programa como <code>python mario.py</code> y espere una solicitud de entrada. Escribe <code>2</code> y presiona enter. Su programa debería generar la siguiente salida. Asegúrese de que la pirámide esté alineada con la esquina inferior izquierda de su terminal y de que no haya espacios adicionales al final de cada línea.\n"
      ]
    },
    {
      "cell_type": "markdown",
      "metadata": {
        "id": "sD_rBVqbSdMt"
      },
      "source": [
        "<code> #\n",
        "##</code>"
      ]
    },
    {
      "cell_type": "markdown",
      "metadata": {
        "id": "YKLHfNurSdMu"
      },
      "source": [
        "Ejecute su programa como <code>python mario.py</code> y espere una solicitud de entrada. Escribe <code>8</code> y presiona enter. Su programa debería generar la siguiente salida. Asegúrese de que la pirámide esté alineada con la esquina inferior izquierda de su terminal y de que no haya espacios adicionales al final de cada línea.\n"
      ]
    },
    {
      "cell_type": "markdown",
      "metadata": {
        "id": "ctNugQ7YSdMv"
      },
      "source": [
        "<code>       #\n",
        "      ##\n",
        "     ###\n",
        "    ####\n",
        "   #####\n",
        "  ######\n",
        " #######\n",
        "########</code>"
      ]
    },
    {
      "cell_type": "markdown",
      "metadata": {
        "id": "G8XAifAwSdMw"
      },
      "source": [
        "Ejecute su programa como <code>python mario.py</code> y espere una solicitud de entrada. Escribe <code>9</code> y presiona enter. Su programa debe rechazar esta entrada como inválida, por ejemplo, volviendo a solicitar al usuario que escriba otro número. Luego, escribe <code>2</code> y presiona enter. Su programa debería generar la siguiente salida. Asegúrese de que la pirámide esté alineada con la esquina inferior izquierda de su terminal y de que no haya espacios adicionales al final de cada línea.\n"
      ]
    },
    {
      "cell_type": "markdown",
      "metadata": {
        "id": "r06EP_F_SdMw"
      },
      "source": [
        "<code> #\n",
        "##</code>\n",
        "    \n",
        "    "
      ]
    },
    {
      "cell_type": "markdown",
      "metadata": {
        "id": "IH4mD0pPSdMx"
      },
      "source": [
        "- Ejecute su programa como <code>python mario.py</code> y espere una solicitud de entrada. Escribe fooy presiona enter. Su programa debe rechazar esta entrada como inválida, por ejemplo, volviendo a solicitar al usuario que escriba otro número.\n",
        "- Ejecute su programa como <code>python mario.py</code> y espere una solicitud de entrada. No escriba nada y presione enter. Su programa debe rechazar esta entrada como inválida, por ejemplo, volviendo a solicitar al usuario que escriba otro número."
      ]
    },
    {
      "cell_type": "code",
      "metadata": {
        "colab": {
          "base_uri": "https://localhost:8080/"
        },
        "id": "NieUt0x2SdMz",
        "outputId": "4852de82-4a2b-442d-d3b4-2a715479dec1"
      },
      "source": [
        "def triangulo(n):\n",
        "    \"\"\"\n",
        "    for i in range(1,n+1) -> hacemos un bucle entre el 1 y el numero introducido\n",
        "    \" \"*(n-i) -> añade los espacios al inicio\n",
        "    \"*\"*(i+i-1) -> por cada valor entre el 1 y n+1, devolvemos la cantidad de asteriscos\n",
        "    [] -> el resultado lo devuelve dentro de un array\n",
        "    \"\\n\".join() -> divide el array en una cadena separando cada elemento con un \\n (salto de linea)\n",
        "    \"\"\"\n",
        "    return \"\\n\".join([\" \"*(n-i)+\"*\"*(i+i-1) for i in range(1,n+1)])\n",
        " \n",
        "numero=int(input(\"indica un numero: \"))\n",
        "print(triangulo(numero))"
      ],
      "execution_count": 4,
      "outputs": [
        {
          "output_type": "stream",
          "name": "stdout",
          "text": [
            "indica un numero: 7\n",
            "      *\n",
            "     ***\n",
            "    *****\n",
            "   *******\n",
            "  *********\n",
            " ***********\n",
            "*************\n"
          ]
        }
      ]
    }
  ]
}