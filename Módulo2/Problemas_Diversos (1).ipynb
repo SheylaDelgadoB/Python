{
  "nbformat": 4,
  "nbformat_minor": 0,
  "metadata": {
    "kernelspec": {
      "display_name": "Python 3",
      "language": "python",
      "name": "python3"
    },
    "language_info": {
      "codemirror_mode": {
        "name": "ipython",
        "version": 3
      },
      "file_extension": ".py",
      "mimetype": "text/x-python",
      "name": "python",
      "nbconvert_exporter": "python",
      "pygments_lexer": "ipython3",
      "version": "3.8.5"
    },
    "colab": {
      "name": "Problemas Diversos.ipynb",
      "provenance": []
    }
  },
  "cells": [
    {
      "cell_type": "markdown",
      "metadata": {
        "id": "XKdoxSfBQx2Q"
      },
      "source": [
        "# PROBLEMAS DIVERSOS"
      ]
    },
    {
      "cell_type": "markdown",
      "metadata": {
        "id": "e62aRS2XQx2Z"
      },
      "source": [
        "<h3>1.</h3>\n",
        "Realizar una función que permita la carga de n alumnos. Por cada alumno se deberá preguntar el nombre completo y permitir el ingreso de 3 notas. Las notas deben estar comprendidas entre 0 y 20. Devolver el listado de alumnos."
      ]
    },
    {
      "cell_type": "code",
      "metadata": {
        "colab": {
          "base_uri": "https://localhost:8080/"
        },
        "id": "gdJ1OoRUQx2b",
        "outputId": "351c929e-5618-4b3c-f04e-46442aebcead"
      },
      "source": [
        "cantidad = int(input(\"Ingrese la cantidad de alumnos a registrar : \"))\n",
        "cantidad"
      ],
      "execution_count": null,
      "outputs": [
        {
          "name": "stdout",
          "output_type": "stream",
          "text": [
            "Ingrese la cantidad de alumnos a registrar : 3\n"
          ]
        },
        {
          "output_type": "execute_result",
          "data": {
            "text/plain": [
              "3"
            ]
          },
          "metadata": {},
          "execution_count": 1
        }
      ]
    },
    {
      "cell_type": "code",
      "metadata": {
        "colab": {
          "base_uri": "https://localhost:8080/"
        },
        "id": "uJzgynwTZEVL",
        "outputId": "367b1b21-e45a-4c70-a2fe-e8cc106e9236"
      },
      "source": [
        "lista_alumnos = []\n",
        "# solicito n veces un alumno por teclado\n",
        "for i in range(cantidad):\n",
        "    # dicx vacio\n",
        "    dicx_alumnos = {}\n",
        "    \n",
        "    # ingreso datos\n",
        "    dicx_alumnos['alumno'] = input(f'Ingrese el {i+1} alumno: ')\n",
        "    \n",
        "    nota1 = int(input('ingrese la nota 1: '))\n",
        "    nota2 = int(input('ingrese la nota 2: '))\n",
        "    nota3 = int(input('ingrese la nota 3: '))\n",
        "    \n",
        "    dicx_alumnos['notas'] = [nota1,nota2,nota3]\n",
        "    \n",
        "    # añado alumno a listado\n",
        "    lista_alumnos.append(dicx_alumnos)"
      ],
      "execution_count": null,
      "outputs": [
        {
          "name": "stdout",
          "output_type": "stream",
          "text": [
            "Ingrese el 1 alumno: Sheyla\n",
            "ingrese la nota 1: 20\n",
            "ingrese la nota 2: 19\n",
            "ingrese la nota 3: 18\n",
            "Ingrese el 2 alumno: Jhon\n",
            "ingrese la nota 1: 17\n",
            "ingrese la nota 2: 16\n",
            "ingrese la nota 3: 15\n",
            "Ingrese el 3 alumno: Briam\n",
            "ingrese la nota 1: 20\n",
            "ingrese la nota 2: 20\n",
            "ingrese la nota 3: 20\n"
          ]
        }
      ]
    },
    {
      "cell_type": "code",
      "metadata": {
        "colab": {
          "base_uri": "https://localhost:8080/"
        },
        "id": "SnmJyN36Zax4",
        "outputId": "61f22c43-677d-48e9-a521-a2a18d072315"
      },
      "source": [
        "lista_alumnos"
      ],
      "execution_count": null,
      "outputs": [
        {
          "output_type": "execute_result",
          "data": {
            "text/plain": [
              "[{'alumno': 'Sheyla', 'notas': [20, 19, 18]},\n",
              " {'alumno': 'Jhon', 'notas': [17, 16, 15]},\n",
              " {'alumno': 'Briam', 'notas': [20, 20, 20]}]"
            ]
          },
          "metadata": {},
          "execution_count": 4
        }
      ]
    },
    {
      "cell_type": "markdown",
      "metadata": {
        "id": "-D3S8yMYQx2c"
      },
      "source": [
        "### 2.\n",
        "Definir una función que dado un listado de alumnos evalúe cuántos aprobaron y cuántos desaprobaron, teniendo en cuenta que se aprueba con 4. La nota será el promedio de las 3 notas para cada alumno."
      ]
    },
    {
      "cell_type": "code",
      "metadata": {
        "colab": {
          "base_uri": "https://localhost:8080/"
        },
        "id": "TlpAgHf0Qx2d",
        "outputId": "3a53dc3d-acf0-469d-88c0-6897d7934f20"
      },
      "source": [
        "\n",
        "aplazados = aprobados = notables = 0\n",
        " \n",
        "while True:\n",
        "\tnota = float(input('Ingrese nota (0 para terminar):'))\n",
        "\tif nota == 0:\n",
        "\t\tbreak\n",
        " \n",
        "\tif nota > 10:\n",
        "\t\tcontinue\n",
        "\telse:\n",
        "\t\tif nota < 4:\n",
        "\t\t\taplazados += 1\n",
        "\t\telif nota >= 4 and nota <=7:\n",
        "\t\t\taprobados += 1\n",
        "\t\telif nota > 7 and nota <= 10:\n",
        "\t\t\tnotables += 1\n",
        " \n",
        "print('\\nNumero de aprobados %d' %aprobados)\n",
        "print('Numero de aplazados %d' %aplazados)\n",
        "print('Numero de notables %d' %notables)"
      ],
      "execution_count": null,
      "outputs": [
        {
          "output_type": "stream",
          "name": "stdout",
          "text": [
            "Ingrese nota (0 para terminar):5\n",
            "Ingrese nota (0 para terminar):4\n",
            "Ingrese nota (0 para terminar):6\n",
            "Ingrese nota (0 para terminar):0\n",
            "\n",
            "Numero de aprobados 3\n",
            "Numero de aplazados 0\n",
            "Numero de notables 0\n"
          ]
        }
      ]
    },
    {
      "cell_type": "markdown",
      "metadata": {
        "id": "g-qgAiFSiBam"
      },
      "source": [
        "3.Informar el promedio de nota del curso total.\n"
      ]
    },
    {
      "cell_type": "code",
      "metadata": {
        "colab": {
          "base_uri": "https://localhost:8080/"
        },
        "id": "MHv9FYXfiEEv",
        "outputId": "f0be4f99-b70c-49e8-9819-eb06b5e838d3"
      },
      "source": [
        "data = [int(input('Ingrese nota1:')), int(input('Ingrese nota1:')), int(input('Ingrese nota1:')), int(input('Ingrese nota1:')), int(input('Ingrese nota1:')), int(input('Ingrese nota1:'))]\n",
        "mean = sum(data)/float(len(data))\n",
        "print(mean)"
      ],
      "execution_count": null,
      "outputs": [
        {
          "output_type": "stream",
          "name": "stdout",
          "text": [
            "Ingrese nota1:15\n",
            "Ingrese nota1:16\n",
            "Ingrese nota1:17\n",
            "Ingrese nota1:18\n",
            "Ingrese nota1:19\n",
            "Ingrese nota1:20\n",
            "17.5\n"
          ]
        }
      ]
    },
    {
      "cell_type": "markdown",
      "metadata": {
        "id": "qG-66lZWh5k3"
      },
      "source": [
        "4.Realizar una función que indique quién tuvo el promedio más alto y quién tuvo la nota promedio más baja."
      ]
    },
    {
      "cell_type": "code",
      "metadata": {
        "id": "5BVwKUayQx2g",
        "colab": {
          "base_uri": "https://localhost:8080/"
        },
        "outputId": "080e221e-5dca-4ccf-c9ca-7c075741d23f"
      },
      "source": [
        "notas = []\n",
        "for indice in range(1,6):\n",
        "\twhile True:\n",
        "\t\tnota = int(input(\"Introduce la nota %d:\" % indice))\n",
        "\t\tif nota>=0 and nota<=20: break\n",
        "\tnotas.append(nota)\n",
        "\n",
        "# Muestro resultados\n",
        "\n",
        "print(\"Notas: \",end=\"\")\n",
        "for nota in notas:\n",
        "\tprint(nota,\" \",end=\"\")\n",
        "print()\n",
        "print(\"Nota media: \",sum(notas)/len(notas))\n",
        "print(\"Nota max: \",max(notas))\n",
        "print(\"Nota min: \",min(notas))\n",
        "\n"
      ],
      "execution_count": 2,
      "outputs": [
        {
          "output_type": "stream",
          "name": "stdout",
          "text": [
            "Introduce la nota 1:15\n",
            "Introduce la nota 2:16\n",
            "Introduce la nota 3:17\n",
            "Introduce la nota 4:18\n",
            "Introduce la nota 5:19\n",
            "Notas: 15  16  17  18  19  \n",
            "Nota media:  17.0\n",
            "Nota max:  19\n",
            "Nota min:  15\n"
          ]
        }
      ]
    },
    {
      "cell_type": "markdown",
      "metadata": {
        "id": "Edbgk6DbQx2m"
      },
      "source": [
        "### 5.\n",
        "Realizar una función que permita buscar un alumno por nombre, siendo el nombre completo o parcial, y devuelva una lista con los n alumnos que concuerden con ese nombre junto con todos sus datos, incluido el promedio de sus notas."
      ]
    },
    {
      "cell_type": "code",
      "metadata": {
        "id": "vr7XvNcPQx2n",
        "colab": {
          "base_uri": "https://localhost:8080/"
        },
        "outputId": "1c2bd4e1-7066-439d-9f5e-ee028b5890ba"
      },
      "source": [
        "# Queremos guardar los nombres y la edades de los alumnos de un curso. \n",
        "# Realiza un programa que introduzca el nombre y la edad de cada alumno. \n",
        "# El proceso de lectura de datos terminará cuando se introduzca como nombre \n",
        "# un asterisco (*) Al finalizar se mostrar los siguientes datos:\n",
        "#  * Todos lo alumnos mayores de edad.\n",
        "#  * Los alumnos mayores (los que tienen más edad)\n",
        "\n",
        "nombres = []\n",
        "notas = []\n",
        "# Inicializo las listas hasta que introduzca un \"*\" \n",
        "while True:\t\n",
        "\tnombre = input(\"Dime el nombre de un alumno:\")\n",
        "\tif nombre != \"*\":\n",
        "\t\tnombres.append(nombre)\n",
        "\t\tnotas.append(int(input(\"Dime su nota:\")))\n",
        "\tif nombre == \"*\": break;\t\n",
        "\n",
        "# Calcular la nota máxima\n",
        "nota_max = max(notas)\n",
        "# Alumnos con notas mayores \n",
        "print(\"=======================\")\n",
        "print(\"Alumnos con notas  aprobatorias \")\n",
        "print(\"=======================\")\n",
        "for nombre,nota in zip(nombres,notas):\n",
        "\tif nota >= 10:\n",
        "\t\tprint(nombre)\n",
        "\t\n",
        "# Alumnos mayores \n",
        "print(\"=======================\")\n",
        "print(\"Alumnos mejores notas\")\n",
        "print(\"=======================\")\n",
        "for nombre,nota in zip(nombres,notas):\n",
        "\tif nota == nota_max:\n",
        "\t\tprint(nombre)\n"
      ],
      "execution_count": 4,
      "outputs": [
        {
          "output_type": "stream",
          "name": "stdout",
          "text": [
            "Dime el nombre de un alumno:Sheyla\n",
            "Dime su nota:17\n",
            "Dime el nombre de un alumno:Briam\n",
            "Dime su nota:16\n",
            "Dime el nombre de un alumno:Javier\n",
            "Dime su nota:15\n",
            "Dime el nombre de un alumno:*\n",
            "===============\n",
            "Alumnos con notas  aprobatorias \n",
            "=======================\n",
            "Sheyla\n",
            "Briam\n",
            "Javier\n",
            "===============\n",
            "Alumnos mejores notas\n",
            "===============\n",
            "Sheyla\n"
          ]
        }
      ]
    }
  ]
}